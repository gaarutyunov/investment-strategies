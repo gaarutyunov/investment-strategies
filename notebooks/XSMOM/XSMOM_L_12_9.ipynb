{
 "cells": [
  {
   "cell_type": "markdown",
   "metadata": {
    "collapsed": true,
    "pycharm": {
     "name": "#%% md\n"
    }
   },
   "source": [
    "## Only-Long Cross-Sectional Momentum Strategy\n",
    "\n",
    "- Ranking Period: 12 months\n",
    "- Holding Period: 9 months\n",
    "- Assets in losers portfolio: 0\n",
    "- Assets in winners portfolio: 20\n",
    "- Rebalance technique: Equally-weighted"
   ]
  },
  {
   "cell_type": "code",
   "execution_count": 1,
   "outputs": [],
   "source": [
    "%matplotlib inline\n",
    "from datetime import datetime\n",
    "\n",
    "import pandas as pd\n",
    "import pytz\n",
    "from trading_calendars import get_calendar\n",
    "from zipline import run_algorithm\n",
    "\n",
    "from strategies.momentum import Momentum\n",
    "\n",
    "def initialize(context):\n",
    "    strategy = Momentum(ranking_period=12,\n",
    "                                holding_period=9,\n",
    "                                momentum_gap=1,\n",
    "                                losers_amount=0,\n",
    "                                winners_amount=20)\n",
    "    strategy.initialize(context)\n",
    "    context.strategy = strategy\n",
    "\n",
    "\n",
    "def rebalance(context, data):\n",
    "    context.strategy.rebalance(context, data)\n",
    "\n",
    "\n",
    "def analyze(context, perf: pd.DataFrame) -> None:\n",
    "    context.strategy.analyze(context, perf)"
   ],
   "metadata": {
    "collapsed": false,
    "pycharm": {
     "name": "#%%\n"
    }
   }
  },
  {
   "cell_type": "code",
   "execution_count": null,
   "outputs": [],
   "source": [
    "start = datetime(2012, 1, 3, 7, 0, 0, tzinfo=pytz.timezone('Europe/Moscow'))\n",
    "end = datetime(2018, 12, 31, 7, 0, 0, tzinfo=pytz.timezone('Europe/Moscow'))\n",
    "results = run_algorithm(\n",
    "    start=start,\n",
    "    end=end,\n",
    "    initialize=initialize,\n",
    "    capital_base=1000000,\n",
    "    analyze=analyze,\n",
    "    bundle='database_bundle',\n",
    "    trading_calendar=get_calendar('XMOS')\n",
    ")\n"
   ],
   "metadata": {
    "collapsed": false,
    "pycharm": {
     "name": "#%%\n",
     "is_executing": true
    }
   }
  }
 ],
 "metadata": {
  "kernelspec": {
   "display_name": "Python 3",
   "language": "python",
   "name": "python3"
  },
  "language_info": {
   "codemirror_mode": {
    "name": "ipython",
    "version": 2
   },
   "file_extension": ".py",
   "mimetype": "text/x-python",
   "name": "python",
   "nbconvert_exporter": "python",
   "pygments_lexer": "ipython2",
   "version": "2.7.6"
  }
 },
 "nbformat": 4,
 "nbformat_minor": 0
}