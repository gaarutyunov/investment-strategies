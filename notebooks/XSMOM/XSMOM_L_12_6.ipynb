{
 "cells": [
  {
   "cell_type": "markdown",
   "metadata": {
    "collapsed": true,
    "pycharm": {
     "name": "#%% md\n"
    }
   },
   "source": [
    "## Only-Long Cross-Sectional Momentum Strategy\n",
    "\n",
    "- Ranking Period: 12 months\n",
    "- Holding Period: 6 months\n",
    "- Assets in losers portfolio: 0\n",
    "- Assets in winners portfolio: 20\n",
    "- Rebalance technique: Equally-weighted"
   ]
  },
  {
   "cell_type": "code",
   "execution_count": 1,
   "outputs": [],
   "source": [
    "%matplotlib inline\n",
    "from datetime import datetime\n",
    "\n",
    "import pandas as pd\n",
    "import pytz\n",
    "from trading_calendars import get_calendar\n",
    "from zipline import run_algorithm\n",
    "\n",
    "from strategies.momentum import Momentum\n",
    "\n",
    "def initialize(context):\n",
    "    strategy = Momentum(ranking_period=12,\n",
    "                                holding_period=6,\n",
    "                                momentum_gap=1,\n",
    "                                losers_amount=0,\n",
    "                                winners_amount=20)\n",
    "    strategy.initialize(context)\n",
    "    context.strategy = strategy\n",
    "\n",
    "\n",
    "def rebalance(context, data):\n",
    "    context.strategy.rebalance(context, data)\n",
    "\n",
    "\n",
    "def analyze(context, perf: pd.DataFrame) -> None:\n",
    "    context.strategy.analyze(context, perf)"
   ],
   "metadata": {
    "collapsed": false,
    "pycharm": {
     "name": "#%%\n"
    }
   }
  },
  {
   "cell_type": "code",
   "execution_count": null,
   "outputs": [
    {
     "name": "stdout",
     "output_type": "stream",
     "text": [
      "\n",
      "                Cross-Sectional Momentum\n",
      "                - Ranking Period: 12 months\n",
      "                - Holding Period: 6 months\n",
      "                - Assets in losers portfolio: 0\n",
      "                - Assets in winners portfolio: 20\n",
      "                - Rebalance technique: Equally-weighted\n",
      "                \n"
     ]
    },
    {
     "data": {
      "text/plain": "<IPython.core.display.HTML object>",
      "text/html": "<table border=\"1\" class=\"dataframe\">\n  <thead>\n    <tr style=\"text-align: right;\"><th>Start date</th><td colspan=2>2012-01-03</td></tr>\n    <tr style=\"text-align: right;\"><th>End date</th><td colspan=2>2018-12-28</td></tr>\n    <tr style=\"text-align: right;\"><th>Total months</th><td colspan=2>83</td></tr>\n    <tr style=\"text-align: right;\">\n      <th></th>\n      <th>Backtest</th>\n    </tr>\n  </thead>\n  <tbody>\n    <tr>\n      <th>Annual return</th>\n      <td>0.5%</td>\n    </tr>\n    <tr>\n      <th>Cumulative returns</th>\n      <td>3.6%</td>\n    </tr>\n    <tr>\n      <th>Annual volatility</th>\n      <td>3.2%</td>\n    </tr>\n    <tr>\n      <th>Sharpe ratio</th>\n      <td>0.17</td>\n    </tr>\n    <tr>\n      <th>Calmar ratio</th>\n      <td>0.07</td>\n    </tr>\n    <tr>\n      <th>Stability</th>\n      <td>0.74</td>\n    </tr>\n    <tr>\n      <th>Max drawdown</th>\n      <td>-7.7%</td>\n    </tr>\n    <tr>\n      <th>Omega ratio</th>\n      <td>1.03</td>\n    </tr>\n    <tr>\n      <th>Sortino ratio</th>\n      <td>0.23</td>\n    </tr>\n    <tr>\n      <th>Skew</th>\n      <td>-0.68</td>\n    </tr>\n    <tr>\n      <th>Kurtosis</th>\n      <td>5.13</td>\n    </tr>\n    <tr>\n      <th>Tail ratio</th>\n      <td>0.91</td>\n    </tr>\n    <tr>\n      <th>Daily value at risk</th>\n      <td>-0.4%</td>\n    </tr>\n    <tr>\n      <th>Gross leverage</th>\n      <td>0.20</td>\n    </tr>\n    <tr>\n      <th>Daily turnover</th>\n      <td>5.3%</td>\n    </tr>\n  </tbody>\n</table>"
     },
     "metadata": {},
     "output_type": "display_data"
    },
    {
     "name": "stderr",
     "output_type": "stream",
     "text": [
      "/Users/germanarutunov/opt/miniconda3/envs/strategies/lib/python3.5/site-packages/numpy/core/fromnumeric.py:52: FutureWarning: 'argmin' is deprecated. Use 'idxmin' instead. The behavior of 'argmin' will be corrected to return the positional minimum in the future. Use 'series.values.argmin' to get the position of the minimum now.\n",
      "  return getattr(obj, method)(*args, **kwds)\n"
     ]
    },
    {
     "data": {
      "text/plain": "<IPython.core.display.HTML object>",
      "text/html": "<table border=\"1\" class=\"dataframe\">\n  <thead>\n    <tr style=\"text-align: right;\">\n      <th>Worst drawdown periods</th>\n      <th>Net drawdown in %</th>\n      <th>Peak date</th>\n      <th>Valley date</th>\n      <th>Recovery date</th>\n      <th>Duration</th>\n    </tr>\n  </thead>\n  <tbody>\n    <tr>\n      <th>0</th>\n      <td>7.71</td>\n      <td>2017-10-09</td>\n      <td>2018-12-25</td>\n      <td>NaT</td>\n      <td>NaN</td>\n    </tr>\n    <tr>\n      <th>1</th>\n      <td>5.15</td>\n      <td>2012-03-14</td>\n      <td>2012-05-23</td>\n      <td>2013-01-31</td>\n      <td>232</td>\n    </tr>\n    <tr>\n      <th>2</th>\n      <td>3.90</td>\n      <td>2017-02-07</td>\n      <td>2017-04-20</td>\n      <td>2017-08-24</td>\n      <td>143</td>\n    </tr>\n    <tr>\n      <th>3</th>\n      <td>3.82</td>\n      <td>2013-02-15</td>\n      <td>2014-03-14</td>\n      <td>2015-01-19</td>\n      <td>502</td>\n    </tr>\n    <tr>\n      <th>4</th>\n      <td>2.82</td>\n      <td>2015-09-14</td>\n      <td>2016-01-20</td>\n      <td>2016-04-19</td>\n      <td>157</td>\n    </tr>\n  </tbody>\n</table>"
     },
     "metadata": {},
     "output_type": "display_data"
    }
   ],
   "source": [
    "start = datetime(2012, 1, 3, 7, 0, 0, tzinfo=pytz.timezone('Europe/Moscow'))\n",
    "end = datetime(2018, 12, 31, 7, 0, 0, tzinfo=pytz.timezone('Europe/Moscow'))\n",
    "results = run_algorithm(\n",
    "    start=start,\n",
    "    end=end,\n",
    "    initialize=initialize,\n",
    "    capital_base=1000000,\n",
    "    analyze=analyze,\n",
    "    bundle='database_bundle',\n",
    "    trading_calendar=get_calendar('XMOS')\n",
    ")\n"
   ],
   "metadata": {
    "collapsed": false,
    "pycharm": {
     "name": "#%%\n",
     "is_executing": true
    }
   }
  }
 ],
 "metadata": {
  "kernelspec": {
   "display_name": "Python 3",
   "language": "python",
   "name": "python3"
  },
  "language_info": {
   "codemirror_mode": {
    "name": "ipython",
    "version": 2
   },
   "file_extension": ".py",
   "mimetype": "text/x-python",
   "name": "python",
   "nbconvert_exporter": "python",
   "pygments_lexer": "ipython2",
   "version": "2.7.6"
  }
 },
 "nbformat": 4,
 "nbformat_minor": 0
}