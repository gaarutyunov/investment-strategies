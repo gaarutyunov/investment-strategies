{
 "cells": [
  {
   "cell_type": "markdown",
   "metadata": {
    "collapsed": true,
    "pycharm": {
     "name": "#%% md\n"
    }
   },
   "source": [
    "## Long-Short Time-Series Momentum Strategy\n",
    "\n",
    "- Ranking Period: 1 months\n",
    "- Holding Period: 1 months\n",
    "- Rebalance technique: Volatility-weighted (Scale 40%)\n",
    "\n",
    "$$r_{t,t+1}^{TSMOM, s} = (sign)r_{(t-1, t)}^{s}\\frac{40\\%}{\\sigma_{t-1}}r_{(t, t+1)}^s$$\n"
   ]
  },
  {
   "cell_type": "code",
   "execution_count": 1,
   "outputs": [],
   "source": [
    "%matplotlib inline\n",
    "from datetime import datetime\n",
    "import pytz\n",
    "from trading_calendars import get_calendar\n",
    "from zipline import run_algorithm\n",
    "from zipline.api import schedule_function\n",
    "from zipline.utils.events import date_rules, time_rules\n",
    "from strategies.momentum import Momentum\n",
    "from strategies.ts_momentum import TSMomentum\n",
    "import pandas as pd\n",
    "def initialize(context):\n",
    "    context.strategy = TSMomentum(ranking_period=6,\n",
    "                                  holding_period=6,\n",
    "                                  momentum_gap=1,\n",
    "                                  vol_scale=0.4)\n",
    "    schedule_function(rebalance, date_rule=date_rules.month_start(), time_rule=time_rules.market_open())\n",
    "\n",
    "\n",
    "def rebalance(context, data):\n",
    "    context.strategy.rebalance(context, data)\n",
    "\n",
    "\n",
    "def analyze(context, perf: pd.DataFrame) -> None:\n",
    "    Momentum.analyze(context, perf)"
   ],
   "metadata": {
    "collapsed": false,
    "pycharm": {
     "name": "#%%\n"
    }
   }
  },
  {
   "cell_type": "code",
   "execution_count": null,
   "outputs": [],
   "source": [
    "start = datetime(2012, 1, 3, 7, 0, 0, tzinfo=pytz.timezone('Europe/Moscow'))\n",
    "end = datetime(2018, 12, 31, 7, 0, 0, tzinfo=pytz.timezone('Europe/Moscow'))\n",
    "results = run_algorithm(\n",
    "    start=start,\n",
    "    end=end,\n",
    "    initialize=initialize,\n",
    "    capital_base=1000000,\n",
    "    analyze=analyze,\n",
    "    bundle='database_bundle',\n",
    "    trading_calendar=get_calendar('XMOS')\n",
    ")\n"
   ],
   "metadata": {
    "collapsed": false,
    "pycharm": {
     "name": "#%%\n",
     "is_executing": true
    }
   }
  }
 ],
 "metadata": {
  "kernelspec": {
   "display_name": "Python 3",
   "language": "python",
   "name": "python3"
  },
  "language_info": {
   "codemirror_mode": {
    "name": "ipython",
    "version": 2
   },
   "file_extension": ".py",
   "mimetype": "text/x-python",
   "name": "python",
   "nbconvert_exporter": "python",
   "pygments_lexer": "ipython2",
   "version": "2.7.6"
  }
 },
 "nbformat": 4,
 "nbformat_minor": 0
}